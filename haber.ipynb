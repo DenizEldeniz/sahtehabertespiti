{
 "cells": [
  {
   "cell_type": "markdown",
   "id": "75f59be7",
   "metadata": {},
   "source": [
    "# **VERİ BULMA**\n",
    "Makine öğrenmesi için elimde hem sahte haber hem de gerçek haber niteliği taşıyan haber verisine ihtiyacım vardı. Türkçe veri seti bulmak zordu bu yüzden ben bulduğum tüm Türkçe haber kaynaklarını birleştirmeye karar verdim.\n",
    "\n",
    "https://www.kaggle.com/datasets/suleymancan/turkishnews70000\n",
    "https://www.kaggle.com/datasets/mohamedibrahimabdi/sahte-haber-analizit-rke-metinler kaynaklarını buldum ve indirdim."
   ]
  },
  {
   "cell_type": "markdown",
   "id": "01faa86c",
   "metadata": {},
   "source": [
    "\n",
    "# **VERİ DÜZENLEME**\n",
    "\n",
    "Gördüğünüz gibi dosya isimleri çok karışık. Önce kolay işlem yapabilmek için Sahte_Haber_Analizi_Trke_Metinler.xlsx dosyasının ismini gercek1.xlsx, turkish_news_70000.cvs dosyasının ismini de gercek2.cvs yapacağım.\n",
    "\n",
    "İki veriyi birleştireceğim için aynı formatta olmaları gerekiyor. Bu yüzden xlsx dosyasını csv dosyasına dönüştürüyorum."
   ]
  },
  {
   "cell_type": "code",
   "execution_count": 200,
   "id": "52085f86",
   "metadata": {},
   "outputs": [],
   "source": [
    "import pandas as pd\n",
    "df = pd.read_excel(\"gercek1.xlsx\") # Excel dosyasını oku \n",
    "df.to_csv(\"gercek1.csv\", index=False) # excel dosyasını CSV olarak kaydet\n"
   ]
  },
  {
   "cell_type": "markdown",
   "id": "f0053cd5",
   "metadata": {},
   "source": [
    "# **VERİ TEMİZLEME**\n",
    "Bakıyoruz ki gercek2.cvs ve gercek1.cvs dosyasında kullanmamızı gerektirmeyen sütunlar var. Bunları silelim.\n"
   ]
  },
  {
   "cell_type": "markdown",
   "id": "2d363bce",
   "metadata": {},
   "source": [
    "[![Image](https://i.hizliresim.com/jh79kz7.png)](https://hizliresim.com/jh79kz7)"
   ]
  },
  {
   "cell_type": "code",
   "execution_count": 201,
   "id": "ad840c1d",
   "metadata": {},
   "outputs": [],
   "source": [
    "import pandas as pd\n",
    "df = pd.read_csv(\"gercek2.csv\") #okur\n",
    "df = df.drop(columns=[\"id\", \"main_image\", \"published\", \"site\", \"url\", \"title\"], errors=\"ignore\")\n",
    "df.to_csv(\"gercek2.csv\", index=False)\n",
    "\n",
    "df = pd.read_csv(\"gercek1.csv\")\n",
    "df = df.drop(columns=[\"Sonuc\"], errors=\"ignore\")\n",
    "df.to_csv(\"gercek1.csv\", index=False)"
   ]
  },
  {
   "cell_type": "markdown",
   "id": "d71c4c09",
   "metadata": {},
   "source": [
    "Evet, gereksiz başlıkları sildik. Şimdi iki dosyanın da sütun isimlerinin aynı olmasını sağlamalıyız ki birleştirebilelim. İkisinin de sütunu \"text\" olsun. O zaman gercek1.cvs dosyasının sütun ismini değiştirelim."
   ]
  },
  {
   "cell_type": "code",
   "execution_count": 202,
   "id": "740804b5",
   "metadata": {},
   "outputs": [],
   "source": [
    "import pandas as pd\n",
    "df = pd.read_csv(\"gercek1.csv\") #okur\n",
    "df.rename(columns={\"Haberler\": \"text\"}, inplace=True) #sütun adını değiştirir\n",
    "df.to_csv(\"gercek1.csv\", index=False) #tekrar aynı dosya üzerine yazar\n"
   ]
  },
  {
   "cell_type": "markdown",
   "id": "f31ca321",
   "metadata": {},
   "source": [
    "fotoğrafki gibi iki cvs dosyasının da sütunu \"text\" oldu[![Image](https://i.hizliresim.com/nowwna3.jpg)](https://hizliresim.com/nowwna3)\n",
    "\n"
   ]
  },
  {
   "cell_type": "markdown",
   "id": "8e84e8b4",
   "metadata": {},
   "source": [
    "# **VERİ BİRLEŞTİRME**\n",
    "Şimdi ise iki cvs dosyasını birleştireceğim ki çok daha büyük bir gerçek haber verim olsun.\n"
   ]
  },
  {
   "cell_type": "code",
   "execution_count": 203,
   "id": "450879b3",
   "metadata": {},
   "outputs": [],
   "source": [
    "import pandas as pd\n",
    "\n",
    "df1 = pd.read_csv(\"gercek1.csv\")\n",
    "df2 = pd.read_csv(\"gercek2.csv\")\n",
    "\n",
    "birlesik = pd.concat([df1, df2], ignore_index=True) #birleştirir\n",
    "\n",
    "birlesik.to_csv(\"gercekbirlesik.csv\", index=False) #kaydeder\n"
   ]
  },
  {
   "cell_type": "markdown",
   "id": "3c59749e",
   "metadata": {},
   "source": [
    "**Birleşen Veri Temizliği**\n",
    "Birleşen veride tekrarlanan veriler olduğunu görüyorum. Silmek için:"
   ]
  },
  {
   "cell_type": "code",
   "execution_count": 204,
   "id": "04d7e7c5",
   "metadata": {},
   "outputs": [],
   "source": [
    "import pandas as pd\n",
    "\n",
    "df = pd.read_csv(\"gercekbirlesik.csv\") #okur\n",
    "df_temiz = df.drop_duplicates() # siler\n",
    "df_temiz.to_csv(\"gercekbirlesik.csv\", index=False) #kaydeder\n"
   ]
  },
  {
   "cell_type": "markdown",
   "id": "25b51e2a",
   "metadata": {},
   "source": [
    "# **SAHTE HABER VERİSİ**\n",
    "\n",
    "\n",
    "Şimdi ise makineye öğretmek için sahte haber verilerini indirmem lazım.\n",
    "Bunun için interneti araştırdım ama bulamadım. Bu yüzden yapay zekadan sahte haber oluşturup bana vermesini isteyeceğim.\n",
    "\n"
   ]
  },
  {
   "cell_type": "markdown",
   "id": "626c7021",
   "metadata": {},
   "source": [
    "# **MAKİNE ÖĞRENMESİ KÜTÜPHANE YÜKLEME**\n",
    "Şu an elimde sahte.csv ve gercekbirlesik.csv dosyaları var. Artık python kütüphanelerini kullanarak makineye öğreteceğim.\n",
    "\n",
    "Önce kütüphaneleri yükleyelim."
   ]
  },
  {
   "cell_type": "code",
   "execution_count": 213,
   "id": "2551c855",
   "metadata": {},
   "outputs": [],
   "source": [
    "import pandas as pd\n",
    "from sklearn.model_selection import train_test_split\n",
    "from sklearn.feature_extraction.text import TfidfVectorizer\n",
    "from sklearn.linear_model import LogisticRegression\n",
    "from sklearn.metrics import classification_report, confusion_matrix\n",
    "from sklearn.utils import shuffle\n",
    "\n"
   ]
  },
  {
   "cell_type": "markdown",
   "id": "507b2b57",
   "metadata": {},
   "source": [
    "# **LABEL EKLEME**\n",
    "Gaberin \"gerçek\" mi yoksa \"sahte\" mi olduğunu belirten bir etiket (label) olmalı.\n",
    "Bu sayede model, eğitilirken hangi haberin hangi sınıfa ait olduğunu öğrenebilir.\n",
    "Bu yüzden sahte haberlere 1, gerçek haberlere 0 labelini verelim."
   ]
  },
  {
   "cell_type": "code",
   "execution_count": 206,
   "id": "0e127878",
   "metadata": {},
   "outputs": [],
   "source": [
    "gercek = pd.read_csv('gercekbirlesik.csv')\n",
    "sahte = pd.read_csv('sahte.csv')\n",
    "\n",
    "gercek['label'] = 0\n",
    "sahte['label'] = 1\n",
    "gercek.to_csv(\"gercekbirlesik.csv\", index=False) #kaydeder\n",
    "sahte.to_csv(\"sahte.csv\", index=False) #kaydeder\n",
    "\n"
   ]
  },
  {
   "cell_type": "markdown",
   "id": "f5a4e84b",
   "metadata": {},
   "source": [
    "# **HAZIR VERİLERİN GRAFİĞİ**\n",
    "ŞİMDİ İSE MAKİNE ÖĞRENMESİNE HAZIRLANMIŞ VERİLERİMİZİ İNCELEYELİM. BUNUN İÇİN SEABORN VE MATPLOTLİB KÜTÜPHANESİNİ KULLANACAĞIM."
   ]
  },
  {
   "cell_type": "code",
   "execution_count": 207,
   "id": "4216071a",
   "metadata": {},
   "outputs": [
    {
     "data": {
      "image/png": "[encoded data removed]",
      "text/plain": [
       "<Figure size 640x480 with 1 Axes>"
      ]
     },
     "metadata": {},
     "output_type": "display_data"
    }
   ],
   "source": [
    "import pandas as pd\n",
    "import seaborn as sns\n",
    "import matplotlib.pyplot as plt\n",
    "\n",
    "gercek = pd.read_csv('gercekbirlesik.csv')\n",
    "sahte = pd.read_csv('sahte.csv')\n",
    "\n",
    "df = pd.concat([gercek, sahte], ignore_index=True)\n",
    "\n",
    "sns.countplot(data=df, x='label')\n",
    "plt.title(\"Gerçek vs Sahte Haber Dağılımı\")\n",
    "plt.xlabel(\"Sınıf\")\n",
    "plt.ylabel(\"Adet\")\n",
    "plt.show()"
   ]
  },
  {
   "cell_type": "markdown",
   "id": "59d21521",
   "metadata": {},
   "source": [
    "EN ÇOK GEÇEN KELİMELERE BAKALIM"
   ]
  },
  {
   "cell_type": "code",
   "execution_count": 208,
   "id": "11d4b6b4",
   "metadata": {},
   "outputs": [
    {
     "data": {
      "image/png": "[encoded data removed]",
      "text/plain": [
       "<Figure size 1000x600 with 1 Axes>"
      ]
     },
     "metadata": {},
     "output_type": "display_data"
    }
   ],
   "source": [
    "from sklearn.feature_extraction.text import CountVectorizer\n",
    "import matplotlib.pyplot as plt\n",
    "import seaborn as sns\n",
    "\n",
    "turkish_stop_words = [\n",
    "    'acaba', 'ama', 'aslında', 'az', 'bazı', 'belki', 'ben', 'biri', 'birkaç', 'birşey', \n",
    "    'biz', 'bu', 'çok', 'çünkü', 'da', 'daha', 'de', 'defa', 'diye', 'eğer', 'en', 'gibi', \n",
    "    'hem', 'hep', 'hepsi', 'her', 'hiç', 'için', 'ile', 'ise', 'kez', 'ki', 'kim', 'mı', \n",
    "    'mu', 'mü', 'nasıl', 'ne', 'neden', 'nerde', 'nerede', 'nereye', 'niçin', 'niye', 'o', \n",
    "    'sanki', 'şey', 'şu', 'tamam', 'tüm', 've', 'veya', 'ya', 'yani'\n",
    "]\n",
    "\n",
    "vectorizer = CountVectorizer(\n",
    "    stop_words=turkish_stop_words,\n",
    "    max_features=20,\n",
    "    token_pattern=r'(?u)\\b\\w\\w+\\b'\n",
    ")\n",
    "\n",
    "X = vectorizer.fit_transform(df['text'])\n",
    "word_freq = X.toarray().sum(axis=0)\n",
    "words = vectorizer.get_feature_names_out()\n",
    "\n",
    "plt.figure(figsize=(10,6))\n",
    "sns.barplot(x=word_freq, y=words)\n",
    "plt.title(\"En Sık 20 Kelime\")\n",
    "plt.xlabel(\"Frekans\")\n",
    "plt.ylabel(\"Kelime\")\n",
    "plt.show()\n"
   ]
  },
  {
   "cell_type": "markdown",
   "id": "192c55b7",
   "metadata": {},
   "source": [
    "Tek bir DataFrame altında toplamak istiyoruz. Ve sonrasında verileri karıştırıyoruz ve makinenin performansını arttırmayı hedefliyoruz.\n",
    "Eğer karıştırmazsak makine örüntüyü öğrenebilir."
   ]
  },
  {
   "cell_type": "code",
   "execution_count": 209,
   "id": "16c7d9e2",
   "metadata": {},
   "outputs": [],
   "source": [
    "df = pd.concat([gercek, sahte], ignore_index=True)\n",
    "df = shuffle(df, random_state=42).reset_index(drop=True)\n",
    "\n",
    "X = df['text'] #metin sütunuma x diyorum,\n",
    "y = df['label'] #labelime yani doğruluk yanlışlığa y veriyorum"
   ]
  },
  {
   "cell_type": "markdown",
   "id": "aafc661f",
   "metadata": {},
   "source": [
    "# **EĞİTİM VE TEST SETLERİ**\n",
    "Eğitim ve test setlerine ayıralım (%70 eğitim, %30 test)\n",
    "TF-IDF ile metni sayısallaştıralım ki çıktıları görelim\n"
   ]
  },
  {
   "cell_type": "code",
   "execution_count": 210,
   "id": "8b988a79",
   "metadata": {},
   "outputs": [],
   "source": [
    "X_train, X_test, y_train, y_test = train_test_split(X, y, test_size=0.3, random_state=42)\n",
    "turkish_stop_words = [\n",
    "    'acaba', 'ama', 'aslında', 'az', 'bazı', 'belki', 'ben', 'biri', 'birkaç', 'birşey', \n",
    "    'biz', 'bu', 'çok', 'çünkü', 'da', 'daha', 'de', 'defa', 'diye', 'eğer', 'en', 'gibi', \n",
    "    'hem', 'hep', 'hepsi', 'her', 'hiç', 'için', 'ile', 'ise', 'kez', 'ki', 'kim', 'mı', \n",
    "    'mu', 'mü', 'nasıl', 'ne', 'neden', 'nerde', 'nerede', 'nereye', 'niçin', 'niye', 'o', \n",
    "    'sanki', 'şey', 'şu', 'tamam', 'tüm', 'çok', 've', 'veya', 'ya', 'yani'\n",
    "]\n",
    "\n",
    "vectorizer = TfidfVectorizer(stop_words=turkish_stop_words, max_df=0.7)\n",
    "X_train_tfidf = vectorizer.fit_transform(X_train)\n",
    "X_test_tfidf = vectorizer.transform(X_test)\n"
   ]
  },
  {
   "cell_type": "markdown",
   "id": "2d72cb24",
   "metadata": {},
   "source": [
    "# **MODEL EĞİTİMİ**\n",
    "şimdi modeli oluşturalım ve eğitelim sonrasında da artık projeyi çalıştırıp doğruluk oranını yazdıralım. Eğitirken Logistic Regression kullanacagım. Çünkü ben kendi projemde ikili sınıflandırma kullandım ( ya doğru haber ya yanlış haber). Ayrıca basit, hızlı ve olasılık ihtimali sunuyor."
   ]
  },
  {
   "cell_type": "code",
   "execution_count": 211,
   "id": "025012d3",
   "metadata": {},
   "outputs": [
    {
     "name": "stdout",
     "output_type": "stream",
     "text": [
      "Model doğruluğu: 1.0000\n"
     ]
    }
   ],
   "source": [
    "from sklearn.metrics import accuracy_score\n",
    "model = LogisticRegression(max_iter=70000) # logistic regression yapmak için\n",
    "model.fit(X_train_tfidf, y_train) \n",
    "y_pred = model.predict(X_test_tfidf) # tahmin yapma\n",
    "accuracy = accuracy_score(y_test, y_pred) #test sonuc doğruluk yazdırma\n",
    "print(f\"Model doğruluğu: {accuracy:.4f}\")\n"
   ]
  },
  {
   "cell_type": "code",
   "execution_count": 212,
   "id": "855b2035",
   "metadata": {},
   "outputs": [
    {
     "name": "stderr",
     "output_type": "stream",
     "text": [
      "C:\\Users\\Deniz Eldeniz\\AppData\\Local\\Temp\\ipykernel_28260\\3318284594.py:16: FutureWarning: \n",
      "\n",
      "Passing `palette` without assigning `hue` is deprecated and will be removed in v0.14.0. Assign the `x` variable to `hue` and set `legend=False` for the same effect.\n",
      "\n",
      "  sns.barplot(x='Metric', y='Value', data=metrics_df, palette='Set2')\n"
     ]
    },
    {
     "data": {
      "image/png": "[encoded data removed]",
      "text/plain": [
       "<Figure size 640x480 with 1 Axes>"
      ]
     },
     "metadata": {},
     "output_type": "display_data"
    }
   ],
   "source": [
    "from sklearn.metrics import precision_score, recall_score, f1_score\n",
    "import matplotlib.pyplot as plt\n",
    "import seaborn as sns\n",
    "import pandas as pd\n",
    "\n",
    "# pos_label=1 olarak değiştiriyoruz, çünkü 1 = sahte haber\n",
    "precision = precision_score(y_test, y_pred, pos_label=1)\n",
    "recall = recall_score(y_test, y_pred, pos_label=1)\n",
    "f1 = f1_score(y_test, y_pred, pos_label=1)\n",
    "\n",
    "metrics_df = pd.DataFrame({\n",
    "    'Metric': ['Precision', 'Recall', 'F1 Score'],\n",
    "    'Value': [precision, recall, f1]\n",
    "})\n",
    "\n",
    "sns.barplot(x='Metric', y='Value', data=metrics_df, palette='Set2')\n",
    "plt.title(\"Sahte Haber Sınıflandırma Performansı\")\n",
    "plt.ylim(0, 1)\n",
    "plt.ylabel(\"Skor\")\n",
    "plt.show()\n"
   ]
  }
 ],
 "metadata": {
  "kernelspec": {
   "display_name": "Python 3",
   "language": "python",
   "name": "python3"
  },
  "language_info": {
   "codemirror_mode": {
    "name": "ipython",
    "version": 3
   },
   "file_extension": ".py",
   "mimetype": "text/x-python",
   "name": "python",
   "nbconvert_exporter": "python",
   "pygments_lexer": "ipython3",
   "version": "3.12.10"
  }
 },
 "nbformat": 4,
 "nbformat_minor": 5
}
