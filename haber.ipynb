{
 "cells": [
  {
   "cell_type": "code",
   "execution_count": 71,
   "id": "8cb5020a",
   "metadata": {},
   "outputs": [],
   "source": [
    "import pandas as pd\n",
    "\n",
    "# Excel dosyasını oku\n",
    "df = pd.read_excel(\"gercek1.xlsx\")  # Sayfa adı farklıysa: sheet_name=\"Sayfa1\"\n",
    "\n",
    "# CSV olarak kaydet\n",
    "df.to_csv(\"gercek1.csv\", index=False)\n"
   ]
  },
  {
   "cell_type": "code",
   "execution_count": null,
   "id": "ad840c1d",
   "metadata": {},
   "outputs": [],
   "source": [
    "import pandas as pd\n",
    "\n",
    "df = pd.read_csv(\"gercek2.csv\")\n",
    "\n",
    "df = df.drop(columns=[\"id\",\"main_image\",\"published\",\"site\",\"title\",\"url\"], errors=\"ignore\")\n",
    "df = df.dropna()\n",
    "bunu nasıl githuba repo edebilirim\n",
    "\n",
    "df.to_csv(\"gercek2.csv\", index=False)\n",
    "\n",
    "df = pd.read_csv(\"gercek1.csv\")\n",
    "df =df.drop(columns=[\"Sonuc\"])\n",
    "df = df.dropna()\n",
    "\n",
    "df.to_csv(\"gercek1.csv\", index=False)"
   ]
  }
 ],
 "metadata": {
  "kernelspec": {
   "display_name": "Python 3",
   "language": "python",
   "name": "python3"
  },
  "language_info": {
   "codemirror_mode": {
    "name": "ipython",
    "version": 3
   },
   "file_extension": ".py",
   "mimetype": "text/x-python",
   "name": "python",
   "nbconvert_exporter": "python",
   "pygments_lexer": "ipython3",
   "version": "3.12.10"
  }
 },
 "nbformat": 4,
 "nbformat_minor": 5
}
